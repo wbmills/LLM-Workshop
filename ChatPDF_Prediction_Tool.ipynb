{
 "cells": [
  {
   "cell_type": "code",
   "execution_count": null,
   "metadata": {},
   "outputs": [],
   "source": [
    "from openai import OpenAI\n",
    "#from utils import *\n",
    "from dotenv import load_dotenv\n",
    "import os\n",
    "\n",
    "load_dotenv()\n",
    "api_key = os.getenv(\"OPENAI_KEY\")\n",
    "pdf_loc = os.getenv(\"FILE_LOC\")"
   ]
  },
  {
   "cell_type": "code",
   "execution_count": null,
   "metadata": {},
   "outputs": [],
   "source": []
  },
  {
   "cell_type": "code",
   "execution_count": 11,
   "metadata": {},
   "outputs": [
    {
     "name": "stdout",
     "output_type": "stream",
     "text": [
      "Files:\n",
      " 0 - pdfs/ecosystem/reef_bleaching.pdf\n",
      " 1 - pdfs/ecosystem/Bartley_et_al_Food_web_rewiring.pdf\n",
      " 2 - pdfs/ecosystem/Banerjee_et_al_keystone_taxa_microbiome_arctic.pdf\n"
     ]
    }
   ],
   "source": [
    "# get PDF text\n",
    "pdf_dir = os.path.join('pdfs', pdf_loc)\n",
    "pdf_files = []\n",
    "\n",
    "print('Files:')\n",
    "for i, file in enumerate(os.listdir(pdf_dir)):\n",
    "    tmp_file = os.path.join(pdf_dir, file)\n",
    "    pdf_files.append(tmp_file)\n",
    "    print(f' {i} - {tmp_file}')"
   ]
  }
 ],
 "metadata": {
  "kernelspec": {
   "display_name": "Python 3",
   "language": "python",
   "name": "python3"
  },
  "language_info": {
   "codemirror_mode": {
    "name": "ipython",
    "version": 3
   },
   "file_extension": ".py",
   "mimetype": "text/x-python",
   "name": "python",
   "nbconvert_exporter": "python",
   "pygments_lexer": "ipython3",
   "version": "3.12.1"
  }
 },
 "nbformat": 4,
 "nbformat_minor": 2
}
