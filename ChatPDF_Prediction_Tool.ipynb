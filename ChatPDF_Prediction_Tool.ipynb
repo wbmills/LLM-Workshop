{
 "cells": [
  {
   "cell_type": "code",
   "execution_count": 10,
   "metadata": {},
   "outputs": [],
   "source": [
    "from openai import OpenAI\n",
    "#from utils import *\n",
    "from dotenv import load_dotenv\n",
    "from PyPDF2 import PdfReader\n",
    "\n",
    "import os\n",
    "\n",
    "load_dotenv()\n",
    "api_key = os.getenv(\"OPENAI_KEY\")\n",
    "pdf_loc = os.getenv(\"FILE_LOC\")"
   ]
  },
  {
   "cell_type": "code",
   "execution_count": 9,
   "metadata": {},
   "outputs": [
    {
     "name": "stdout",
     "output_type": "stream",
     "text": [
      "Files:\n"
     ]
    },
    {
     "ename": "FileNotFoundError",
     "evalue": "[Errno 2] No such file or directory: 'pdfs/pdfs/gut/'",
     "output_type": "error",
     "traceback": [
      "\u001b[0;31m---------------------------------------------------------------------------\u001b[0m",
      "\u001b[0;31mFileNotFoundError\u001b[0m                         Traceback (most recent call last)",
      "Cell \u001b[0;32mIn[9], line 6\u001b[0m\n\u001b[1;32m      3\u001b[0m pdf_files \u001b[38;5;241m=\u001b[39m []\n\u001b[1;32m      5\u001b[0m \u001b[38;5;28mprint\u001b[39m(\u001b[38;5;124m'\u001b[39m\u001b[38;5;124mFiles:\u001b[39m\u001b[38;5;124m'\u001b[39m)\n\u001b[0;32m----> 6\u001b[0m \u001b[38;5;28;01mfor\u001b[39;00m i, file \u001b[38;5;129;01min\u001b[39;00m \u001b[38;5;28menumerate\u001b[39m(\u001b[43mos\u001b[49m\u001b[38;5;241;43m.\u001b[39;49m\u001b[43mlistdir\u001b[49m\u001b[43m(\u001b[49m\u001b[43mpdf_dir\u001b[49m\u001b[43m)\u001b[49m):\n\u001b[1;32m      7\u001b[0m     tmp_file \u001b[38;5;241m=\u001b[39m os\u001b[38;5;241m.\u001b[39mpath\u001b[38;5;241m.\u001b[39mjoin(pdf_dir, file)\n\u001b[1;32m      8\u001b[0m     pdf_files\u001b[38;5;241m.\u001b[39mappend(tmp_file)\n",
      "\u001b[0;31mFileNotFoundError\u001b[0m: [Errno 2] No such file or directory: 'pdfs/pdfs/gut/'"
     ]
    }
   ],
   "source": [
    "# get PDF text\n",
    "pdf_dir = os.path.join('pdfs', pdf_loc)\n",
    "pdf_files = []\n",
    "\n",
    "print('Files:')\n",
    "for i, file in enumerate(os.listdir(pdf_dir)):\n",
    "    tmp_file = os.path.join(pdf_dir, file)\n",
    "    pdf_files.append(tmp_file)\n",
    "    print(f' {i} - {tmp_file}')"
   ]
  },
  {
   "cell_type": "code",
   "execution_count": null,
   "metadata": {},
   "outputs": [],
   "source": [
    "# get text of pdf files\n",
    "pdf_text = []\n",
    "character_print_limit = 100\n",
    "\n",
    "for i, file in enumerate(pdf_files):\n",
    "    tmp_text = extract_text_from_pdf(file)\n",
    "    pdf_text.append(tmp_text)\n",
    "    print(f'{i} - {pdf_text[:character_print_limit]}')"
   ]
  }
 ],
 "metadata": {
  "kernelspec": {
   "display_name": "Python 3",
   "language": "python",
   "name": "python3"
  },
  "language_info": {
   "codemirror_mode": {
    "name": "ipython",
    "version": 3
   },
   "file_extension": ".py",
   "mimetype": "text/x-python",
   "name": "python",
   "nbconvert_exporter": "python",
   "pygments_lexer": "ipython3",
   "version": "3.12.1"
  }
 },
 "nbformat": 4,
 "nbformat_minor": 2
}
